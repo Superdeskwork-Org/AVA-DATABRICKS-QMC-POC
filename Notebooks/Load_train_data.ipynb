{
 "cells": [
  {
   "cell_type": "code",
   "execution_count": 0,
   "metadata": {
    "application/vnd.databricks.v1+cell": {
     "cellMetadata": {
      "byteLimit": 2048000,
      "rowLimit": 10000
     },
     "inputWidgets": {},
     "nuid": "844ccc3c-93c1-455d-a852-ce16e2ff236b",
     "showTitle": false,
     "tableResultSettingsMap": {},
     "title": ""
    }
   },
   "outputs": [
    {
     "output_type": "stream",
     "name": "stdout",
     "output_type": "stream",
     "text": [
      "Current Revision: {'error_code': 401, 'message': 'Credential was not sent or was of an unsupported type for this API. [ReqId: 76f646a5-c231-4c42-9d0e-4fa7e96013d2]'}\n"
     ]
    }
   ],
   "source": [
    "import pandas as pd\n",
    "import joblib\n",
    "\n",
    "# Sample DataFrame\n",
    "data = {\n",
    "    'feature_1': [5.1, 4.9, 6.2, 5.9, 6.7],\n",
    "    'feature_2': [3.5, 3.0, 3.4, 3.0, 3.1],\n",
    "    'feature_3': [1.4, 1.4, 5.4, 4.2, 4.4],\n",
    "    'feature_4': [0.2, 0.2, 2.3, 1.5, 1.4],\n",
    "    'target':     [0, 0, 1, 1, 1]\n",
    "}\n",
    "\n",
    "df = pd.DataFrame(data)\n",
    "\n",
    "# Save the DataFrame to a file using joblib\n",
    "joblib.dump(df, 'sample_data.pkl')\n",
    "\n",
    "print(\"Sample DataFrame saved to 'sample_data.pkl'\")"
   ]
  },
  {
   "cell_type": "code",
   "execution_count": 0,
   "metadata": {
    "application/vnd.databricks.v1+cell": {
     "cellMetadata": {},
     "inputWidgets": {},
     "nuid": "ad489740-54ec-415f-8ea4-585adb4d0820",
     "showTitle": false,
     "tableResultSettingsMap": {},
     "title": ""
    }
   },
   "outputs": [],
   "source": []
  }
 ],
 "metadata": {
  "application/vnd.databricks.v1+notebook": {
   "computePreferences": null,
   "dashboards": [],
   "environmentMetadata": {
    "base_environment": "",
    "environment_version": "2"
   },
   "inputWidgetPreferences": null,
   "language": "python",
   "notebookMetadata": {
    "pythonIndentUnit": 4
   },
   "notebookName": "Load_train_data",
   "widgets": {}
  },
  "language_info": {
   "name": "python"
  }
 },
 "nbformat": 4,
 "nbformat_minor": 0
}