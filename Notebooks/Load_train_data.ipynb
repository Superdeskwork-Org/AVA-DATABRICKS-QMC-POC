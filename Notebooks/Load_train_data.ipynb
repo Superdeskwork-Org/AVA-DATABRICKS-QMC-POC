{
 "cells": [
  {
   "cell_type": "code",
   "execution_count": 0,
   "metadata": {
    "application/vnd.databricks.v1+cell": {
     "cellMetadata": {
      "byteLimit": 2048000,
      "rowLimit": 10000
     },
     "inputWidgets": {},
     "nuid": "844ccc3c-93c1-455d-a852-ce16e2ff236b",
     "showTitle": false,
     "tableResultSettingsMap": {},
     "title": ""
    }
   },
   "outputs": [
    {
     "output_type": "stream",
     "name": "stdout",
     "output_type": "stream",
     "text": [
      "Current Revision: {'error_code': 401, 'message': 'Credential was not sent or was of an unsupported type for this API. [ReqId: 76f646a5-c231-4c42-9d0e-4fa7e96013d2]'}\n"
     ]
    }
   ],
   "source": [
    "from sklearn.datasets import load_iris\n",
    "import pandas as pd\n",
    "\n",
    "# Load Iris dataset\n",
    "iris = load_iris(as_frame=True)\n",
    "df = iris.frame\n",
    "df['target'] = iris.target\n",
    "\n",
    "# Save as a Delta table or as a temporary view\n",
    "df.to_csv(\"/tmp/iris.csv\", index=False)\n",
    "print(\"Data saved to /dbfs/tmp/iris.csv\")"
   ]
  },
  {
   "cell_type": "code",
   "execution_count": 0,
   "metadata": {
    "application/vnd.databricks.v1+cell": {
     "cellMetadata": {},
     "inputWidgets": {},
     "nuid": "ad489740-54ec-415f-8ea4-585adb4d0820",
     "showTitle": false,
     "tableResultSettingsMap": {},
     "title": ""
    }
   },
   "outputs": [],
   "source": []
  }
 ],
 "metadata": {
  "application/vnd.databricks.v1+notebook": {
   "computePreferences": null,
   "dashboards": [],
   "environmentMetadata": {
    "base_environment": "",
    "environment_version": "2"
   },
   "inputWidgetPreferences": null,
   "language": "python",
   "notebookMetadata": {
    "pythonIndentUnit": 4
   },
   "notebookName": "Load_train_data",
   "widgets": {}
  },
  "language_info": {
   "name": "python"
  }
 },
 "nbformat": 4,
 "nbformat_minor": 0
}
